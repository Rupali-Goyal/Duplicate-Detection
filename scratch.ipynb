{
 "cells": [
  {
   "cell_type": "markdown",
   "metadata": {},
   "source": [
    "# Importing the initial dependencies"
   ]
  },
  {
   "cell_type": "code",
   "execution_count": 1,
   "metadata": {},
   "outputs": [],
   "source": [
    "from random import seed\n",
    "from random import randrange\n",
    "from csv import reader\n",
    "from math import sqrt"
   ]
  },
  {
   "cell_type": "markdown",
   "metadata": {},
   "source": [
    "## Data Loading Helper Function "
   ]
  },
  {
   "cell_type": "code",
   "execution_count": 2,
   "metadata": {},
   "outputs": [],
   "source": [
    "#Loading the csv files\n",
    "def load_csv(fname):\n",
    "    # Initialiaze a dataset as a list\n",
    "    dataset = list()\n",
    "    #open the file in read mode\n",
    "    with open(fname, 'r') as f:\n",
    "        csv_reader = reader(f)\n",
    "        for row in csv_reader:\n",
    "            if not row:\n",
    "                continue\n",
    "            dataset.append(row)\n",
    "    return dataset"
   ]
  },
  {
   "cell_type": "code",
   "execution_count": 5,
   "metadata": {},
   "outputs": [
    {
     "name": "stdout",
     "output_type": "stream",
     "text": [
      "['is_duplicate', 'common_word_cnt', 'common_nonstop_word_cnt', 'char_cnt_1', 'char_cnt_2', 'char_cnt_diff', 'word_cnt_1', 'word_cnt_2', 'word_cnt_diff', 'avg_word_size_1', 'avg_word_size_2', 'avg_word_size_diff', 'common_noun_cnt', 'len_q1', 'len_q2', 'diff_len', 'len_char_q1', 'len_char_q2', 'len_word_q1', 'len_word_q2', 'common_words', 'fuzz_qratio', 'fuzz_WRatio', 'fuzz_partial_ratio', 'fuzz_partial_token_set_ratio', 'fuzz_partial_token_sort_ratio', 'fuzz_token_set_ratio', 'fuzz_token_sort_ratio', 'wmd', 'norm_wmd', 'cosine_distance', 'cityblock_distance', 'jaccard_distance', 'canberra_distance', 'euclidean_distance', 'minkowski_distance', 'braycurtis_distance', 'skew_q1vec', 'skew_q2vec', 'kur_q1vec', 'kur_q2vec']\n",
      "['common_word_cnt', 'common_nonstop_word_cnt', 'char_cnt_1', 'char_cnt_2', 'char_cnt_diff', 'word_cnt_1', 'word_cnt_2', 'word_cnt_diff', 'avg_word_size_1', 'avg_word_size_2', 'avg_word_size_diff', 'common_noun_cnt', 'len_q1', 'len_q2', 'diff_len', 'len_char_q1', 'len_char_q2', 'len_word_q1', 'len_word_q2', 'common_words', 'fuzz_qratio', 'fuzz_WRatio', 'fuzz_partial_ratio', 'fuzz_partial_token_set_ratio', 'fuzz_partial_token_sort_ratio', 'fuzz_token_set_ratio', 'fuzz_token_sort_ratio', 'wmd', 'norm_wmd', 'cosine_distance', 'cityblock_distance', 'jaccard_distance', 'canberra_distance', 'euclidean_distance', 'minkowski_distance', 'braycurtis_distance', 'skew_q1vec', 'skew_q2vec', 'kur_q1vec', 'kur_q2vec', 'is_duplicate']\n"
     ]
    }
   ],
   "source": [
    "import pandas as pd\n",
    "\n",
    "filename = 'all49_1.csv'\n",
    "data = pd.read_csv(filename)\n",
    "data = data.drop(['id','question1','question2','text1_nostop','text2_nostop','text1_lower','text2_lower','word_overlap'],axis=1)\n",
    "data.to_csv('final.csv', index = False)\n",
    "filename = 'final.csv'\n",
    "dataset = load_csv(filename)\n",
    "print(dataset[0],end='\\n')\n",
    "for i in range(len(dataset)):\n",
    "    dataset[i].append(dataset[i][0])\n",
    "    dataset[i].remove(dataset[i][0])\n",
    "print(dataset[0])\n"
   ]
  },
  {
   "cell_type": "code",
   "execution_count": 6,
   "metadata": {},
   "outputs": [],
   "source": [
    "def str_column_to_float(dataset,columns):\n",
    "    for row in dataset:\n",
    "        for column in columns:\n",
    "            row[column] = float(row[column])"
   ]
  },
  {
   "cell_type": "markdown",
   "metadata": {},
   "source": [
    "## Decision tree algorithm helper Functions"
   ]
  },
  {
   "cell_type": "code",
   "execution_count": 7,
   "metadata": {},
   "outputs": [],
   "source": [
    "def cross_validation_split(dataset,n_folds):\n",
    "    dataset_split = list()\n",
    "    dataset_copy = list(dataset)\n",
    "    fold_size = int(len(dataset)/ n_folds)\n",
    "    for i in range(n_folds):\n",
    "        fold = list()\n",
    "        while len(fold) < fold_size:\n",
    "            index = randrange(len(dataset_copy))\n",
    "            fold.append(dataset_copy.pop(index))\n",
    "        dataset_split.append(fold)\n",
    "    return dataset_split\n",
    "\n",
    "def test_split(index,value,dataset):\n",
    "    left,right = list(),list()\n",
    "    for row in dataset:\n",
    "        if row[index] < value:\n",
    "            left.append(row)\n",
    "        else:\n",
    "            right.append(row)\n",
    "    return left, right\n",
    "\n",
    "def accuracy_metric(actual,predicted):\n",
    "    correct = 0 \n",
    "    for i in range(len(actual)):\n",
    "        if actual[i] == predicted[i]:\n",
    "            correct += 1\n",
    "    return correct / float(len(actual))* 100.0\n",
    "\n",
    "def evaluate_algorithm(dataset, algorithm, n_folds, *args):\n",
    "    folds = cross_validation_split(dataset, n_folds)\n",
    "    scores = list()\n",
    "    for fold in folds:\n",
    "        train_set = list(folds)\n",
    "        train_set.remove(fold)\n",
    "        train_set = sum(train_set,[])\n",
    "        test_set = list()\n",
    "        for row in fold:\n",
    "            row_copy = list(row)\n",
    "            test_set.append(row_copy)\n",
    "            row_copy[-1] = None\n",
    "        predicted = algorithm(train_set,test_set,*args)\n",
    "        actual = [row[-1]  for row in fold]\n",
    "        accuracy = accuracy_metric(actual,predicted)\n",
    "        scores.append(accuracy)   \n",
    "    return scores\n",
    "\n",
    "\n",
    "# Caluculate the gini index for a split dataset as an cost\n",
    "# function used to evaluate the split\n",
    "\n",
    "def gini_index(groups,class_values):\n",
    "    # class_values contains the final label . i,e 0 and 1 in our case\n",
    "    # groups is a type tuple containing the left and the right node for of a parent node\n",
    "    \n",
    "    gini =0.0\n",
    "    for class_value in class_values:\n",
    "        for group in groups:\n",
    "            size = len(group)\n",
    "            if size == 0:\n",
    "                continue\n",
    "            proportion = [row[-1] for row in group].count(class_value) / float(size)\n",
    "            gini += (proportion * (1.0 - proportion))\n",
    "    return gini\n",
    "                     \n",
    "# Select the best split point for a dataset\n",
    "\n",
    "def get_split(dataset, n_features):\n",
    "    class_values = list(set([row[-1] for row in dataset]))\n",
    "    \n",
    "#     class_values.remove('is_duplicate')\n",
    "#     class_values= list()\n",
    "#     for i in x:\n",
    "#         if x not in class_values:\n",
    "#             class_values.append(x) \n",
    "    b_index, b_value, b_score, b_groups = 999, 999, 999, None\n",
    "    features = list()\n",
    "    while len(features) < n_features:\n",
    "        index = randrange(len(dataset[0])-1)\n",
    "        if index not in features:\n",
    "            features.append(index)\n",
    "    for index in features:\n",
    "        for row in dataset:\n",
    "            # When selecting the best split and using it as a new node for the tree \n",
    "            # we will store the index of the chosen attribute, the value of that attribute \n",
    "            # by which to split and the two groups of data split by the chosen split point.\n",
    "            ## Each group of data is its own small dataset of just those rows assigned to the \n",
    "            # left or right group by the splitting process. You can imagine how we might split \n",
    "            # each group again, recursively as we build out our decision tree.\n",
    "            groups = test_split(index,row[index],dataset)\n",
    "            gini = gini_index(groups, class_values)\n",
    "            if gini < b_score:\n",
    "                b_index,b_value, b_score, b_groups = index, row[index],gini, groups\n",
    "                     \n",
    "    \n",
    "    return {'index':b_index, 'value': b_value,'groups':b_groups}\n",
    "        \n",
    "# Create the terminal node value\n",
    "\n",
    "def to_terminal(group):\n",
    "    out = [row[-1] for row in group]\n",
    "    outcomes = list()\n",
    "    for x in out:\n",
    "        if x not in outcomes:\n",
    "            outcomes.append(x)\n",
    "    return max(outcomes, key=outcomes.count)\n",
    "                     \n",
    "                     \n",
    "#Create child splits for a node or make terminal\n",
    "#Building a decision tree involves calling the above developed get_split() function over \n",
    "#and over again on the groups created for each node.\n",
    "#New nodes added to an existing node are called child nodes. \n",
    "#A node may have zero children (a terminal node), one child (one side makes a prediction directly) \n",
    "#or two child nodes. We will refer to the child nodes as left and right in the dictionary representation \n",
    "#of a given node.\n",
    "#Once a node is created, we can create child nodes recursively on each group of data from \n",
    "#the split by calling the same function again.\n",
    "                     \n",
    "def split(node, max_depth, min_size, n_features,depth):\n",
    "    #Firstly, the two groups of data split by the node are extracted for use and \n",
    "    #deleted from the node. As we work on these groups the node no longer requires access to these data.\n",
    "    left, right = node['groups']\n",
    "    del(node['groups'])\n",
    "    \n",
    "    # Check whether left or right group of rows are empty \n",
    "    if not left or not right:\n",
    "        node['left'] = node['right'] = to_terminal(left + right)\n",
    "        return \n",
    "    if depth >= max_depth:\n",
    "        node['left'] , node['right'] = to_terminal(left), to_terminal(right)\n",
    "        return\n",
    "    if len(left) < min_size:\n",
    "        node['left'] = to_terminal(left)\n",
    "    else:\n",
    "        node['left'] = get_split(left,n_features)\n",
    "        split(node['left'],max_depth,min_size,n_features, depth+1)\n",
    "                     \n",
    "    if len(right) < min_size:\n",
    "        node['right'] = to_terminal(right)\n",
    "    else:\n",
    "        node['right'] = get_split(right,n_features)\n",
    "        split(node['right'],max_depth,min_size,n_features, depth+1)\n",
    "                     \n",
    "                     \n",
    "def build_tree(train, max_depth , min_size, n_features):\n",
    "    # Creating root node\n",
    "    root = get_split(train,n_features)\n",
    "\n",
    "    # Calling the split method that calls itself recursively and forms a tree\n",
    "    split(root, max_depth, min_size, n_features, 1)\n",
    "    return root\n",
    "                     \n",
    "# Make predictions with a decision tree\n",
    "                     \n",
    "def predict(node,row):\n",
    "    if row[node['index']] < node['value']:\n",
    "        if isinstance(node['left'],dict):\n",
    "            return predict(node['left'], row)\n",
    "        else:\n",
    "            return node['left']\n",
    "    else:\n",
    "        if isinstance(node['right'],dict):\n",
    "            return predict(node['right'],row)\n",
    "        else:\n",
    "            return node['right']\n",
    "\n",
    "                     \n",
    "# Creating random subsample form the dataset with replacement\n",
    "\n",
    "                     \n",
    "def subsample(dataset,ratio):\n",
    "    sample = list()\n",
    "    n_sample  = round(len(dataset)* ratio)\n",
    "    while len(sample) < n_sample:\n",
    "        index = randrange(len(dataset))\n",
    "        sample.append(dataset[index])\n",
    "    return list(sample)\n",
    "\n",
    "\n",
    "        \n",
    "        \n",
    "    "
   ]
  },
  {
   "cell_type": "markdown",
   "metadata": {},
   "source": [
    "# Main Code\n"
   ]
  },
  {
   "cell_type": "code",
   "execution_count": 8,
   "metadata": {
    "scrolled": true
   },
   "outputs": [
    {
     "name": "stdout",
     "output_type": "stream",
     "text": [
      "Trees : 25\n",
      "Scores: [56.49999999999999, 63.0, 60.5, 61.5, 67.0]\n",
      "Mean Accuracy: 61.7\n"
     ]
    }
   ],
   "source": [
    "# Make a prediction with the list of bagged trees responsible for making a prediction with each decicion tree and combining thee predictions into a single return value \n",
    "\n",
    "def bagging_predict(trees, row):\n",
    "    predictions = [predict(tree,row) for tree in trees]\n",
    "    return max(set(predictions), key=predictions.count)\n",
    "\n",
    "\n",
    "# Random Forest Algorithm \n",
    "\n",
    "def random_forest(train, test, max_depth, min_size, sample_size, n_trees, n_features):\n",
    "    trees = list()\n",
    "    for i in range(n_trees):\n",
    "        sample = subsample(train, sample_size)\n",
    "        tree = build_tree(sample, max_depth,min_size, n_features)\n",
    "        trees.append(tree)\n",
    "    predictions = [bagging_predict(trees, row) for row in test]\n",
    "    return(predictions)\n",
    "\n",
    "\n",
    "seed(1)\n",
    "# Load and prepare forest algorithm \n",
    "\n",
    "# Load and prepare data\n",
    "\n",
    "n_folds = 5\n",
    "max_depth = 10\n",
    "min_size = 1\n",
    "sample_size = 1.0\n",
    "n_features = int(sqrt(len(dataset[0])-1))\n",
    "\n",
    "for n_trees in [25]:\n",
    "    scores = evaluate_algorithm(dataset, random_forest,n_folds,max_depth,min_size,sample_size,n_trees,n_features)\n",
    "    print(f'Trees : {n_trees}')\n",
    "    print(f'Scores: {scores}')\n",
    "    print(f'Mean Accuracy: {sum(scores)/float(len(scores))}')\n",
    "        \n",
    "        \n",
    "        \n",
    "        \n",
    "        \n",
    "        \n",
    "        \n",
    "        \n",
    "        \n",
    "        "
   ]
  },
  {
   "cell_type": "code",
   "execution_count": 13,
   "metadata": {},
   "outputs": [
    {
     "data": {
      "text/plain": [
       "['1', '0', 'is_duplicate']"
      ]
     },
     "execution_count": 13,
     "metadata": {},
     "output_type": "execute_result"
    }
   ],
   "source": [
    "list(set([row[-1] for row in dataset]))"
   ]
  },
  {
   "cell_type": "code",
   "execution_count": null,
   "metadata": {},
   "outputs": [],
   "source": []
  }
 ],
 "metadata": {
  "kernelspec": {
   "display_name": "Python 3",
   "language": "python",
   "name": "python3"
  },
  "language_info": {
   "codemirror_mode": {
    "name": "ipython",
    "version": 3
   },
   "file_extension": ".py",
   "mimetype": "text/x-python",
   "name": "python",
   "nbconvert_exporter": "python",
   "pygments_lexer": "ipython3",
   "version": "3.7.1"
  }
 },
 "nbformat": 4,
 "nbformat_minor": 2
}
