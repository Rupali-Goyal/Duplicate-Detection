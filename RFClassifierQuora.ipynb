{
 "cells": [
  {
   "cell_type": "code",
   "execution_count": 10,
   "metadata": {},
   "outputs": [],
   "source": [
    "import pandas as pd\n",
    "from sklearn.model_selection import train_test_split\n",
    "from sklearn.ensemble import RandomForestClassifier\n",
    "from sklearn.metrics import accuracy_score\n",
    "from sklearn.metrics import confusion_matrix"
   ]
  },
  {
   "cell_type": "code",
   "execution_count": 11,
   "metadata": {},
   "outputs": [
    {
     "name": "stdout",
     "output_type": "stream",
     "text": [
      "30\n",
      "28\n",
      "99574\n",
      "26\n"
     ]
    }
   ],
   "source": [
    "df = pd.read_csv('quora_features.csv')\n",
    "df.dropna(inplace=True)\n",
    "string_data=list()\n",
    "for x in df.columns:\n",
    "    if type(df[x][0])==str:\n",
    "        string_data.append(x)\n",
    "features = list(df.columns)\n",
    "print(len(features))\n",
    "for x in string_data:\n",
    "    if x in features:\n",
    "        features.remove(x)\n",
    "print(len(features))\n",
    "print(len(df[features[0]]))\n",
    "features.remove('is_duplicate')\n",
    "features.remove('id')\n",
    "print(len(features))"
   ]
  },
  {
   "cell_type": "code",
   "execution_count": 12,
   "metadata": {},
   "outputs": [
    {
     "name": "stdout",
     "output_type": "stream",
     "text": [
      "26 \n",
      " ['len_q1', 'len_q2', 'diff_len', 'len_char_q1', 'len_char_q2', 'len_word_q1', 'len_word_q2', 'common_words', 'fuzz_qratio', 'fuzz_WRatio', 'fuzz_partial_ratio', 'fuzz_partial_token_set_ratio', 'fuzz_partial_token_sort_ratio', 'fuzz_token_set_ratio', 'fuzz_token_sort_ratio', 'cosine_distance', 'cityblock_distance', 'jaccard_distance', 'canberra_distance', 'euclidean_distance', 'minkowski_distance', 'braycurtis_distance', 'skew_q1vec', 'skew_q2vec', 'kur_q1vec', 'kur_q2vec']\n"
     ]
    },
    {
     "name": "stderr",
     "output_type": "stream",
     "text": [
      "C:\\ProgramData\\Anaconda3\\lib\\site-packages\\sklearn\\model_selection\\_split.py:2179: FutureWarning: From version 0.21, test_size will always complement train_size unless both are specified.\n",
      "  FutureWarning)\n"
     ]
    }
   ],
   "source": [
    "print(len(features), \"\\n\",features)\n",
    "train_x, test_x, train_y,test_y = train_test_split(df[features[0:]],df['is_duplicate'],train_size=0.7)"
   ]
  },
  {
   "cell_type": "code",
   "execution_count": 13,
   "metadata": {},
   "outputs": [
    {
     "name": "stderr",
     "output_type": "stream",
     "text": [
      "C:\\ProgramData\\Anaconda3\\lib\\site-packages\\sklearn\\ensemble\\forest.py:246: FutureWarning: The default value of n_estimators will change from 10 in version 0.20 to 100 in 0.22.\n",
      "  \"10 in version 0.20 to 100 in 0.22.\", FutureWarning)\n"
     ]
    }
   ],
   "source": [
    "clf = RandomForestClassifier()\n",
    "model = clf.fit(train_x, train_y)"
   ]
  },
  {
   "cell_type": "code",
   "execution_count": 14,
   "metadata": {},
   "outputs": [
    {
     "name": "stdout",
     "output_type": "stream",
     "text": [
      "RandomForestClassifier(bootstrap=True, class_weight=None, criterion='gini',\n",
      "            max_depth=None, max_features='auto', max_leaf_nodes=None,\n",
      "            min_impurity_decrease=0.0, min_impurity_split=None,\n",
      "            min_samples_leaf=1, min_samples_split=2,\n",
      "            min_weight_fraction_leaf=0.0, n_estimators=10, n_jobs=None,\n",
      "            oob_score=False, random_state=None, verbose=0,\n",
      "            warm_start=False)\n"
     ]
    }
   ],
   "source": [
    "print(clf)"
   ]
  },
  {
   "cell_type": "code",
   "execution_count": 18,
   "metadata": {},
   "outputs": [
    {
     "name": "stdout",
     "output_type": "stream",
     "text": [
      "Actual outcome : 0 and Predicted outcome: 0\n",
      "Actual outcome : 1 and Predicted outcome: 0\n",
      "Actual outcome : 0 and Predicted outcome: 0\n",
      "Actual outcome : 1 and Predicted outcome: 0\n",
      "Actual outcome : 0 and Predicted outcome: 0\n",
      "Actual outcome : 1 and Predicted outcome: 1\n",
      "Actual outcome : 0 and Predicted outcome: 0\n",
      "Actual outcome : 1 and Predicted outcome: 1\n",
      "Actual outcome : 1 and Predicted outcome: 1\n",
      "Actual outcome : 1 and Predicted outcome: 1\n"
     ]
    }
   ],
   "source": [
    "predictions = clf.predict(test_x)\n",
    "for i in range(10,20):\n",
    "     print(f'Actual outcome : {list(test_y)[i]} and Predicted outcome: {predictions[i]}')"
   ]
  },
  {
   "cell_type": "code",
   "execution_count": 19,
   "metadata": {},
   "outputs": [
    {
     "name": "stdout",
     "output_type": "stream",
     "text": [
      "Train Accuracy : 0.9879628699731711\n",
      "Test Accuracy : 0.7105412914672112\n"
     ]
    }
   ],
   "source": [
    "print(f'Train Accuracy : {accuracy_score(train_y, clf.predict(train_x))}')\n",
    "print(f'Test Accuracy : { accuracy_score(test_y, predictions) }')"
   ]
  },
  {
   "cell_type": "code",
   "execution_count": 20,
   "metadata": {},
   "outputs": [
    {
     "name": "stdout",
     "output_type": "stream",
     "text": [
      "fuzz_token_set_ratio             0.097313\n",
      "fuzz_token_sort_ratio            0.066678\n",
      "fuzz_partial_ratio               0.060780\n",
      "canberra_distance                0.050294\n",
      "cityblock_distance               0.049189\n",
      "common_words                     0.046959\n",
      "fuzz_qratio                      0.046826\n",
      "kur_q2vec                        0.042834\n",
      "skew_q1vec                       0.042412\n",
      "kur_q1vec                        0.042048\n",
      "skew_q2vec                       0.041998\n",
      "fuzz_partial_token_sort_ratio    0.039001\n",
      "len_q1                           0.038427\n",
      "len_q2                           0.036785\n",
      "braycurtis_distance              0.036521\n",
      "euclidean_distance               0.036130\n",
      "diff_len                         0.034274\n",
      "minkowski_distance               0.034006\n",
      "cosine_distance                  0.032124\n",
      "len_char_q1                      0.027041\n",
      "len_char_q2                      0.025719\n",
      "fuzz_WRatio                      0.024790\n",
      "len_word_q2                      0.023932\n",
      "len_word_q1                      0.023461\n",
      "jaccard_distance                 0.000452\n",
      "fuzz_partial_token_set_ratio     0.000005\n",
      "dtype: float64\n"
     ]
    }
   ],
   "source": [
    "imp_feature = pd.Series(clf.feature_importances_,index=features[0:]).sort_values(ascending=False)\n",
    "print(imp_feature)\n",
    "for x in imp_feature[:20]:\n",
    "    if x in features:\n",
    "        features.remove(x)"
   ]
  },
  {
   "cell_type": "code",
   "execution_count": 21,
   "metadata": {
    "scrolled": true
   },
   "outputs": [
    {
     "name": "stderr",
     "output_type": "stream",
     "text": [
      "C:\\ProgramData\\Anaconda3\\lib\\site-packages\\sklearn\\model_selection\\_split.py:2179: FutureWarning: From version 0.21, test_size will always complement train_size unless both are specified.\n",
      "  FutureWarning)\n"
     ]
    },
    {
     "name": "stdout",
     "output_type": "stream",
     "text": [
      "RandomForestClassifier(bootstrap=True, class_weight=None, criterion='gini',\n",
      "            max_depth=15, max_features='auto', max_leaf_nodes=None,\n",
      "            min_impurity_decrease=0.0, min_impurity_split=None,\n",
      "            min_samples_leaf=1, min_samples_split=2,\n",
      "            min_weight_fraction_leaf=0.0, n_estimators=100, n_jobs=None,\n",
      "            oob_score=False, random_state=0, verbose=0, warm_start=False)\n"
     ]
    }
   ],
   "source": [
    "train_x, test_x, train_y,test_y = train_test_split(df[features[0:]],df['is_duplicate'],train_size=0.7)\n",
    "clf = RandomForestClassifier(n_estimators=100,random_state=0,max_depth=15,max_features='auto')\n",
    "model = clf.fit(train_x, train_y)\n",
    "print(clf)"
   ]
  },
  {
   "cell_type": "code",
   "execution_count": 22,
   "metadata": {},
   "outputs": [
    {
     "name": "stdout",
     "output_type": "stream",
     "text": [
      "Actual outcome : 0 and Predicted outcome: 0\n",
      "Actual outcome : 0 and Predicted outcome: 0\n",
      "Actual outcome : 0 and Predicted outcome: 0\n",
      "Actual outcome : 0 and Predicted outcome: 1\n",
      "Actual outcome : 1 and Predicted outcome: 1\n",
      "Actual outcome : 1 and Predicted outcome: 0\n",
      "Actual outcome : 1 and Predicted outcome: 1\n",
      "Actual outcome : 0 and Predicted outcome: 1\n",
      "Actual outcome : 1 and Predicted outcome: 1\n",
      "Actual outcome : 0 and Predicted outcome: 0\n"
     ]
    }
   ],
   "source": [
    "predictions = clf.predict(test_x)\n",
    "for i in range(0,10):\n",
    "    print(f'Actual outcome : {list(test_y)[i]} and Predicted outcome: {predictions[i]}')\n",
    "        "
   ]
  },
  {
   "cell_type": "code",
   "execution_count": 23,
   "metadata": {},
   "outputs": [
    {
     "name": "stdout",
     "output_type": "stream",
     "text": [
      "Train Accuracy : 0.875195477826717\n",
      "Test Accuracy : 0.738928129079771\n",
      "Confusion matrix : [[13884  4836]\n",
      " [ 2963  8190]]\n"
     ]
    }
   ],
   "source": [
    "print(f'Train Accuracy : {accuracy_score(train_y, clf.predict(train_x))}')\n",
    "print(f'Test Accuracy : { accuracy_score(test_y, predictions) }')\n",
    "print(f'Confusion matrix : {confusion_matrix(test_y, predictions)}')"
   ]
  },
  {
   "cell_type": "code",
   "execution_count": 46,
   "metadata": {},
   "outputs": [],
   "source": [
    "import _pickle as pickle\n",
    "\n",
    "pickle.dump(clf, open('./rfclasssifier.obj','wb'))"
   ]
  },
  {
   "cell_type": "code",
   "execution_count": null,
   "metadata": {},
   "outputs": [],
   "source": []
  }
 ],
 "metadata": {
  "kernelspec": {
   "display_name": "Python 3",
   "language": "python",
   "name": "python3"
  },
  "language_info": {
   "codemirror_mode": {
    "name": "ipython",
    "version": 3
   },
   "file_extension": ".py",
   "mimetype": "text/x-python",
   "name": "python",
   "nbconvert_exporter": "python",
   "pygments_lexer": "ipython3",
   "version": "3.7.1"
  }
 },
 "nbformat": 4,
 "nbformat_minor": 2
}
